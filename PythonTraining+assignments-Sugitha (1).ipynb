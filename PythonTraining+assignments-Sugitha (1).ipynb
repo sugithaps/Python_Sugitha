{
 "cells": [
  {
   "cell_type": "code",
   "execution_count": 2,
   "metadata": {
    "collapsed": false
   },
   "outputs": [
    {
     "name": "stdout",
     "output_type": "stream",
     "text": [
      "#################program to check given substring is there in actual string or not##################\n",
      "Enter the stringsugitha\n",
      "Enter the substrings\n",
      "string found at 0\n"
     ]
    }
   ],
   "source": [
    "#2)write a program to chek given substring is there in actual string or not?\n",
    "\n",
    "s=\"program to check given substring is there in actual string or not\"\n",
    "print s.center(100,'#')\n",
    "s1=raw_input(\"Enter the string\")\n",
    "sub1=raw_input(\"Enter the substring\")\n",
    "i=0\n",
    "\n",
    "j=i+len(sub1)\n",
    "for x in s1:\n",
    "    if sub1==s1[i:j]:\n",
    "        print \"string found at %d\"%i\n",
    "        break\n",
    "else:\n",
    "    print\"string not found\"\n",
    "        \n",
    "    i+=1\n",
    "    j+=1\n",
    "    "
   ]
  },
  {
   "cell_type": "code",
   "execution_count": null,
   "metadata": {
    "collapsed": true
   },
   "outputs": [],
   "source": [
    "s=raw_input(\"Enter the string\")\n",
    "sub=raw_input(\"Enter the sub string\")\n",
    "if s.find(sub)==-1:\n",
    "    print \"substring not found\"\n",
    "else:\n",
    "    print \"substring found\""
   ]
  },
  {
   "cell_type": "code",
   "execution_count": 1,
   "metadata": {
    "collapsed": false
   },
   "outputs": [
    {
     "name": "stdout",
     "output_type": "stream",
     "text": [
      "Enter the stringhi Sugitha How are you\n",
      "Enter the substringhow\n",
      "substring found\n"
     ]
    }
   ],
   "source": [
    "s=raw_input(\"Enter the string\")\n",
    "sub=raw_input(\"Enter the substring\")\n",
    "a=s.lower()\n",
    "b=sub.lower()\n",
    "x=b in a\n",
    "if x==True:\n",
    "    print \"substring found\"\n",
    "else:\n",
    "    print\"substring not found\""
   ]
  },
  {
   "cell_type": "code",
   "execution_count": 3,
   "metadata": {
    "collapsed": false
   },
   "outputs": [
    {
     "name": "stdout",
     "output_type": "stream",
     "text": [
      "Enter the number1\n",
      "Number entered in an odd number\n"
     ]
    }
   ],
   "source": [
    "#3)Take a number from the user and check whether even or odd\n",
    "number=input(\"Enter the number\")\n",
    "if number%2==0:\n",
    "    print\"The number is an even number\"\n",
    "else:\n",
    "    print\"Number entered in an odd number\""
   ]
  },
  {
   "cell_type": "code",
   "execution_count": 6,
   "metadata": {
    "collapsed": false
   },
   "outputs": [
    {
     "name": "stdout",
     "output_type": "stream",
     "text": [
      "Enter a number: 7\n",
      "number is prime\n"
     ]
    }
   ],
   "source": [
    "#4)Take a number from the user and check whether it is prime?\n",
    "\n",
    "a = input('Enter a number: ')\n",
    "\n",
    "if a == 1:  \n",
    "    print a, 'is not a prime'\n",
    "\n",
    "else :\n",
    "    for i in range(2,a):\n",
    "        if a%i==0:\n",
    "            \n",
    "            print \"number is not prime\"\n",
    "            break\n",
    "        else:\n",
    "            print \"number is prime\"\n",
    "            break"
   ]
  },
  {
   "cell_type": "code",
   "execution_count": 3,
   "metadata": {
    "collapsed": false
   },
   "outputs": [
    {
     "name": "stdout",
     "output_type": "stream",
     "text": [
      "Enter the string2232424\n",
      "String contains only digits\n"
     ]
    }
   ],
   "source": [
    "#5)take a string from the user and check contains only digits or not?\n",
    "\n",
    "string=raw_input(\"Enter the string\")\n",
    "if string.isdigit():\n",
    "    print \"String contains only digits\"\n",
    "else:\n",
    "    print \"String contains all the characters \"\n"
   ]
  },
  {
   "cell_type": "code",
   "execution_count": 4,
   "metadata": {
    "collapsed": false
   },
   "outputs": [
    {
     "name": "stdout",
     "output_type": "stream",
     "text": [
      "Enter the stringsweweAA\n",
      "String contains only alphabets\n"
     ]
    }
   ],
   "source": [
    "#6)Take a string from the user and check contains only  alphabets or not?\n",
    "\n",
    "string=raw_input(\"Enter the string\")\n",
    "if string.isalpha():\n",
    "    print \"String contains only alphabets\"\n",
    "else:\n",
    "    print \"String contains all the characters \""
   ]
  },
  {
   "cell_type": "code",
   "execution_count": 5,
   "metadata": {
    "collapsed": false
   },
   "outputs": [
    {
     "name": "stdout",
     "output_type": "stream",
     "text": [
      "Enter the string#$$%)\n",
      "string contains all special characters\n"
     ]
    }
   ],
   "source": [
    "#7)Take a string from the user and check contains only  special chars or not?\n",
    "\n",
    "string=raw_input(\"Enter the string\")\n",
    "if not string.isdigit():\n",
    "    for i in string:\n",
    "        if i.isalpha():\n",
    "            print \"not all characters are special characters\"\n",
    "            break\n",
    "    else:\n",
    "        print \"string contains all special characters\"\n",
    "else:\n",
    "    print\"string contains only digits as characters\""
   ]
  },
  {
   "cell_type": "code",
   "execution_count": 8,
   "metadata": {
    "collapsed": false
   },
   "outputs": [
    {
     "name": "stdout",
     "output_type": "stream",
     "text": [
      "Enter the stringASDFF\n",
      "String contains only uppercase characters\n"
     ]
    }
   ],
   "source": [
    "#8)Take a string from the user and check contains only  capiatl letters or not\n",
    "\n",
    "string=raw_input(\"Enter the string\")\n",
    "if (string.isupper() and string.isalpha()):\n",
    "    print \"String contains only uppercase characters\"\n",
    "else:\n",
    "    print \"String contains both lower and uppercase characters \""
   ]
  },
  {
   "cell_type": "code",
   "execution_count": 9,
   "metadata": {
    "collapsed": false
   },
   "outputs": [
    {
     "name": "stdout",
     "output_type": "stream",
     "text": [
      "Enter the stringsdffgg\n",
      "String contains only lowercase characters\n"
     ]
    }
   ],
   "source": [
    "#9)Take a string from the user and check contains only  small letters or not?\n",
    "\n",
    "string=raw_input(\"Enter the string\")\n",
    "\n",
    "    \n",
    "if string.islower() and string.isalpha():\n",
    "    print \"String contains only lowercase characters\"\n",
    "    \n",
    "else:\n",
    "    print \"String contains other characters \""
   ]
  },
  {
   "cell_type": "code",
   "execution_count": 1,
   "metadata": {
    "collapsed": false
   },
   "outputs": [
    {
     "name": "stdout",
     "output_type": "stream",
     "text": [
      "Press q to exit\n",
      "1.Windows\n",
      "2.Linux\n",
      "3.MAC\n",
      "\n",
      "Enter your choice1\n",
      "Windows\n",
      "1.Windows\n",
      "2.Linux\n",
      "3.MAC\n",
      "\n",
      "Enter your choice2\n",
      "Linux\n",
      "1.Windows\n",
      "2.Linux\n",
      "3.MAC\n",
      "\n",
      "Enter your choice3\n",
      "Mac\n",
      "1.Windows\n",
      "2.Linux\n",
      "3.MAC\n",
      "\n",
      "Enter your choiceq\n",
      "Quit\n"
     ]
    }
   ],
   "source": [
    "#10) Show the below menu to the user until and until user select quit and display corresponding os message\n",
    "\n",
    "\n",
    "#Menu:\n",
    "#1. windows\n",
    "#2. Linux\n",
    "#3. Mac\n",
    "#4. quit\n",
    "\n",
    "print \"Press q to exit\"\n",
    "while True:\n",
    "    print \"1.Windows\\n2.Linux\\n3.MAC\\n\"\n",
    "    choice=raw_input(\"Enter your choice\")\n",
    "    if choice=='1':\n",
    "        print(\"Windows\")\n",
    "        \n",
    "    elif choice=='2':\n",
    "        print(\"Linux\")\n",
    "    elif choice=='3':\n",
    "        print(\"Mac\")\n",
    "    elif choice==\"q\" or \"Q\":\n",
    "        print(\"Quit\")\n",
    "        break"
   ]
  },
  {
   "cell_type": "code",
   "execution_count": 2,
   "metadata": {
    "collapsed": false
   },
   "outputs": [
    {
     "name": "stdout",
     "output_type": "stream",
     "text": [
      "Enter the stringdftt3\n",
      "True,string contains digits\n"
     ]
    }
   ],
   "source": [
    "#11)Take a string from the user and check contains atleast one digit or not?\n",
    "\n",
    "string=raw_input(\"Enter the string\")\n",
    "if string.isalnum():\n",
    "    for i in string:\n",
    "        if i.isdigit():\n",
    "            \n",
    "            print \"True,string contains digits\"\n",
    "            break\n",
    "    else:\n",
    "        print \"False,string contains no digits\"\n",
    "else:\n",
    "    print \"contains special characters\""
   ]
  },
  {
   "cell_type": "code",
   "execution_count": 3,
   "metadata": {
    "collapsed": false
   },
   "outputs": [
    {
     "name": "stdout",
     "output_type": "stream",
     "text": [
      "Enter the stringaskjsaj\n"
     ]
    }
   ],
   "source": [
    "#12)take a string from the user and check contains atleast one alphabets or not?\n",
    "\n",
    "string=raw_input(\"Enter the string\")\n",
    "if not string.isalpha():\n",
    "    for i in string:\n",
    "        if i.isalpha():\n",
    "            print \"string contains atleast one alphabet\"\n",
    "            break\n",
    "    else:\n",
    "        print\"string contains no alphabet\""
   ]
  },
  {
   "cell_type": "code",
   "execution_count": 4,
   "metadata": {
    "collapsed": false
   },
   "outputs": [
    {
     "name": "stdout",
     "output_type": "stream",
     "text": [
      "enter the string12343\n",
      "string contains no characters\n"
     ]
    }
   ],
   "source": [
    "#13)take a string from the user and check contains atleast one chars or not?\n",
    "import re\n",
    "string=raw_input(\"enter the string\")\n",
    "\n",
    "for i in string:\n",
    "    if not i.isdigit():\n",
    "\n",
    "        print \"String contains atleast one character\"\n",
    "        break\n",
    "else:\n",
    "        print \"string contains no characters\"\n"
   ]
  },
  {
   "cell_type": "code",
   "execution_count": 4,
   "metadata": {
    "collapsed": false
   },
   "outputs": [
    {
     "name": "stdout",
     "output_type": "stream",
     "text": [
      "enter the stringaSddf\n",
      "One capital is present in the given string\n"
     ]
    }
   ],
   "source": [
    "#14)Take a string from the user and check contains atleast one capital letter or not?\n",
    "\n",
    "string=raw_input(\"enter the string\")\n",
    "for i in string:\n",
    "    if i.isupper():\n",
    "        print \"One capital is present in the given string\"\n",
    "        break\n",
    "else:\n",
    "    print \"No capital letters found in the string\""
   ]
  },
  {
   "cell_type": "code",
   "execution_count": 5,
   "metadata": {
    "collapsed": false
   },
   "outputs": [
    {
     "name": "stdout",
     "output_type": "stream",
     "text": [
      "enter the stringnASASKJSA\n",
      "One small case letter is present in the given string\n"
     ]
    }
   ],
   "source": [
    "#15)Take a string from the user and check contains atleast one small letter or not?\n",
    "\n",
    "string=raw_input(\"enter the string\")\n",
    "for i in string:\n",
    "    if i.islower():\n",
    "        print \"One small case letter is present in the given string\"\n",
    "        break\n",
    "else:\n",
    "    print \"No small case letter found in the string\"\n"
   ]
  },
  {
   "cell_type": "code",
   "execution_count": 6,
   "metadata": {
    "collapsed": false
   },
   "outputs": [
    {
     "name": "stdout",
     "output_type": "stream",
     "text": [
      "Enter total number of people10\n",
      "Enter total number of buses1\n",
      "Enter total number of seats per bus20\n",
      "sufficient buses\n"
     ]
    }
   ],
   "source": [
    "#16)Take the input from the user for(Total number of people, toatl number of busses, Number of seats for bus). Based on the input\n",
    "\t#Deside whether there is sufficient busses or not and give solution for how many extra busses required.\n",
    "    \n",
    "people=input(\"Enter total number of people\")\n",
    "bus=input(\"Enter total number of buses\")\n",
    "seat=input(\"Enter total number of seats per bus\")\n",
    "totalseats=bus*seat\n",
    "if totalseats >= people:\n",
    "    print \"sufficient buses\"\n",
    "else:\n",
    "    print \"insufficient buses\"\n",
    "    reqSeats = people-totalseats\n",
    "    reqBuses = float(reqSeats)/float(seat)\n",
    "    if reqBuses.is_integer():\n",
    "        print \"required buses:\", reqBuses\n",
    "    else:\n",
    "        print \"required buses:\", int(reqBuses)+1"
   ]
  },
  {
   "cell_type": "code",
   "execution_count": 7,
   "metadata": {
    "collapsed": false
   },
   "outputs": [
    {
     "name": "stdout",
     "output_type": "stream",
     "text": [
      "1\n",
      "3\n",
      "5\n",
      "7\n",
      "9\n",
      "11\n",
      "13\n",
      "15\n",
      "17\n",
      "19\n",
      "21\n",
      "23\n",
      "25\n",
      "27\n",
      "29\n",
      "31\n",
      "33\n",
      "35\n",
      "37\n",
      "39\n",
      "41\n",
      "43\n",
      "45\n",
      "47\n",
      "49\n",
      "51\n",
      "53\n",
      "55\n",
      "57\n",
      "59\n",
      "61\n",
      "63\n",
      "65\n",
      "67\n",
      "69\n",
      "71\n",
      "73\n",
      "75\n",
      "77\n",
      "79\n",
      "81\n",
      "83\n",
      "85\n",
      "87\n",
      "89\n",
      "91\n",
      "93\n",
      "95\n",
      "97\n",
      "99\n"
     ]
    }
   ],
   "source": [
    "#17)Print the first 100 odd numbers\n",
    "\n",
    "for i in range(100):\n",
    "    if i%2!=0:\n",
    "        print i"
   ]
  },
  {
   "cell_type": "code",
   "execution_count": 7,
   "metadata": {
    "collapsed": false
   },
   "outputs": [
    {
     "name": "stdout",
     "output_type": "stream",
     "text": [
      "Enter the value of x24\n",
      "1\n",
      "2\n",
      "3\n",
      "4\n",
      "6\n",
      "8\n",
      "12\n",
      "24\n"
     ]
    }
   ],
   "source": [
    "#18)Determine the factors of a number entered  by the user\n",
    "\n",
    "x=input(\"Enter the value of x\")\n",
    "for i in range(1,100):\n",
    "\tif x%i==0:\n",
    "\t\tprint i;\n",
    "\t\ti+=1"
   ]
  },
  {
   "cell_type": "code",
   "execution_count": 8,
   "metadata": {
    "collapsed": false
   },
   "outputs": [
    {
     "name": "stdout",
     "output_type": "stream",
     "text": [
      "2\n",
      "Enter a guess4\n",
      "guess is too high\n",
      "Enter a guess5\n",
      "guess is too high\n",
      "Enter a guess6\n",
      "guess is too high\n",
      "Enter a guess3\n",
      "guess is too high\n",
      "Enter a guess34\n",
      "guess is too high\n",
      "Enter a guess5\n",
      "guess is too high\n",
      "try nex time\n"
     ]
    }
   ],
   "source": [
    "#19. Play a number guessing game (User enters a guess, you print YES or Higher or Lower)\n",
    "\n",
    "import random\n",
    "\n",
    "guess_num = random.sample(range(1,20),1)\n",
    "guess_num =int(guess_num[0])\n",
    "print guess_num\n",
    "chance =0\n",
    "while chance < 6:\n",
    "    usr = input(\"Enter a guess\")\n",
    "    if usr > guess_num:\n",
    "        print \"guess is too high\"\n",
    "        chance +=1\n",
    "    elif usr<guess_num:\n",
    "        print \"guess is too small\"\n",
    "        chance +=1\n",
    "    elif usr == guess_num:\n",
    "        print \"your guess is correct\"\n",
    "        print \"number of chances you took\" ,chance\n",
    "        break\n",
    "if chance == 6:\n",
    "    print \"try nex time\""
   ]
  },
  {
   "cell_type": "code",
   "execution_count": 9,
   "metadata": {
    "collapsed": false
   },
   "outputs": [
    {
     "name": "stdout",
     "output_type": "stream",
     "text": [
      "Enter value110\n",
      "Enter value22\n",
      "divisible\n"
     ]
    }
   ],
   "source": [
    "#20. Take two numbers from the user a,b check whether a is divisible by b or not?\n",
    "\n",
    "a=int(raw_input(\"Enter value1\"))\n",
    "b=int(raw_input(\"Enter value2\"))\n",
    "if b>0:\n",
    "    \n",
    "    if a%b==0:\n",
    "        print \"divisible\"\n",
    "    else:\n",
    "        print\"not divisible\""
   ]
  },
  {
   "cell_type": "code",
   "execution_count": 10,
   "metadata": {
    "collapsed": false
   },
   "outputs": [
    {
     "name": "stdout",
     "output_type": "stream",
     "text": [
      "ENter the age4\n",
      "toddler\n"
     ]
    }
   ],
   "source": [
    "#21.Given an age, figure out whether someone's a baby, toddler, child, teenager, adult or old codger\n",
    "\n",
    "age=input(\"ENter the age\")\n",
    "if age <=5:\n",
    "    print\"toddler\"\n",
    "elif (age>5 and age<18):\n",
    "    print \"teenager\"\n",
    "elif (age>=18 and age<=30):\n",
    "    print \"adult\"\n",
    "else:\n",
    "    print\"old codger\"\n"
   ]
  },
  {
   "cell_type": "code",
   "execution_count": 11,
   "metadata": {
    "collapsed": false
   },
   "outputs": [
    {
     "name": "stdout",
     "output_type": "stream",
     "text": [
      "166833\n"
     ]
    }
   ],
   "source": [
    "#22)Find the sum of all the multiples of 3 or 5 below 1000\n",
    "\n",
    "a=3\n",
    "sum=0\n",
    "\n",
    "for i in range(1000):\n",
    "    if i%a==0:\n",
    "        sum=sum+i\n",
    "print sum\n"
   ]
  },
  {
   "cell_type": "code",
   "execution_count": 13,
   "metadata": {
    "collapsed": false
   },
   "outputs": [
    {
     "name": "stdout",
     "output_type": "stream",
     "text": [
      "Enter first number3\n",
      "Enter second number4\n",
      "4 is bigger\n"
     ]
    }
   ],
   "source": [
    "#23)Write a program to findout big of two numbers\n",
    "\n",
    "a=input(\"Enter first number\")\n",
    "b=input(\"Enter second number\")\n",
    "if a>b:\n",
    "    print \"%d is bigger\" %a\n",
    "else:\n",
    "    print '%d is bigger'%b"
   ]
  },
  {
   "cell_type": "code",
   "execution_count": 14,
   "metadata": {
    "collapsed": false
   },
   "outputs": [
    {
     "name": "stdout",
     "output_type": "stream",
     "text": [
      "Enter the numbers separated with coma2,4,1,34324,34\n",
      "34324 is bigger\n"
     ]
    }
   ],
   "source": [
    "#24)Write a program to findout biggest number in the given numbers\n",
    "\n",
    "numbers=input(\"Enter the numbers separated with coma\")\n",
    "\n",
    "t=0\n",
    "for i in numbers:\n",
    "    if t<i:\n",
    "        t=i\n",
    "print \"%d is bigger\"%t"
   ]
  },
  {
   "cell_type": "code",
   "execution_count": 15,
   "metadata": {
    "collapsed": false
   },
   "outputs": [
    {
     "name": "stdout",
     "output_type": "stream",
     "text": [
      "Enter the string:Hai hello how are you? hai\n",
      "Enter the substring:hai\n",
      "substring found at 23\n"
     ]
    }
   ],
   "source": [
    "#25)Findout third occurance of given substring\n",
    "\n",
    "text = raw_input(\"Enter the string:\")\n",
    "sub=raw_input(\"Enter the substring:\")\n",
    "index = 0\n",
    "while index < len(text):\n",
    "    index = text.find(sub, index)\n",
    "    if index == -1:\n",
    "        break\n",
    "    print('substring found at %s' %index)\n",
    "    index += 1\n"
   ]
  },
  {
   "cell_type": "code",
   "execution_count": 18,
   "metadata": {
    "collapsed": false
   },
   "outputs": [
    {
     "name": "stdout",
     "output_type": "stream",
     "text": [
      "Enter the stringpython is a object oriented programming language.Python is easy to learn\n",
      "Enter the substringPyThON\n",
      "substring found\n",
      "no of occurances of substring: 1\n"
     ]
    }
   ],
   "source": [
    "#26\n",
    "s=raw_input(\"Enter the string\")\n",
    "sub=raw_input(\"Enter the substring\")\n",
    "a=s.lower()\n",
    "b=sub.lower()\n",
    "x=b in a\n",
    "if x==True:\n",
    "    print \"substring found\"\n",
    "    print \"no of occurances of substring:\",s1.count(sub1)\n",
    "else:\n",
    "    print\"substring not found\""
   ]
  },
  {
   "cell_type": "code",
   "execution_count": null,
   "metadata": {
    "collapsed": false
   },
   "outputs": [],
   "source": [
    "#27)Take some single digit numbers from the user and findout min, maximum, sum, average\n",
    "\n",
    "a=raw_input(\"enter numbers\")\n",
    "for i in a:\n",
    "    l=len(str(i))\n",
    "    if i!=1:\n",
    "        print \"enter only single digits\"\n",
    "        break\n",
    "    \n",
    "        \n",
    "else:\n",
    "   \n",
    "    m=min(a)\n",
    "    mx=max(a)\n",
    "        \n",
    "    s=sum(a)\n",
    "    avg=s/len(a)\n",
    "\n",
    "    print \"minimum is %d\"%m\n",
    "    print \"Maximum is %d\"%mx\n",
    "    print \"sum is %d\"%s\n",
    "    print \"average is %d\"%avg"
   ]
  },
  {
   "cell_type": "code",
   "execution_count": 8,
   "metadata": {
    "collapsed": false
   },
   "outputs": [
    {
     "name": "stdout",
     "output_type": "stream",
     "text": [
      "enter the string1000\n"
     ]
    },
    {
     "data": {
      "text/plain": [
       "'001000'"
      ]
     },
     "execution_count": 8,
     "metadata": {},
     "output_type": "execute_result"
    }
   ],
   "source": [
    "#28. WAP> 10 -> 000010\n",
    "#        100 -> 000100\n",
    "#       1000 -> 001000\n",
    "#      2345678 -> 2345678\n",
    "\n",
    "x = raw_input(\"enter the string\")\n",
    "str(x).zfill(6)"
   ]
  },
  {
   "cell_type": "code",
   "execution_count": null,
   "metadata": {
    "collapsed": true
   },
   "outputs": [],
   "source": [
    "#29)names  =\"emp1,emp2,emp3,emp4\" iterate through the employee names.\n",
    "\n",
    "names  =\"emp1,emp2,emp3,emp4\"\n",
    "a=names.split(',')\n",
    "print a\n",
    "['emp1', 'emp2', 'emp3', 'emp4']\n",
    "for i in a:\n",
    "    print i\n",
    "\n",
    "\n"
   ]
  },
  {
   "cell_type": "code",
   "execution_count": null,
   "metadata": {
    "collapsed": true
   },
   "outputs": [],
   "source": [
    "#30)Take actual string, soucrce string, destination string. replce first nth occurances of soucestring with destination string of actual string\n",
    "\n",
    "s=raw_input(\"Enter the string\")\n",
    "sub=raw_input(\"Enter the sub string\")\n",
    "newsub=raw_input(\"Enter the new substring\")\n",
    "if s.find(sub)==-1:\n",
    "    print \"substring not found\"\n",
    "    \n",
    "else:\n",
    "    print \"substring found\"\n",
    "    newstring=s.replace(sub,newsub)\n",
    "    print \"The new string is \", newstring"
   ]
  },
  {
   "cell_type": "code",
   "execution_count": null,
   "metadata": {
    "collapsed": true
   },
   "outputs": [],
   "source": [
    "#31)Take numbers from the user and findout min, maximum, sum, average\n",
    "\n",
    "a=input(\"Enter the numbers\")\n",
    "for i in a:\n",
    "    m=min(a)\n",
    "    mx=max(a)\n",
    "        \n",
    "    s=sum(a)\n",
    "    avg=s/l\n",
    "\n",
    "    print \"minimum is %d\"%m\n",
    "    print \"Maximum is %d\"%mx\n",
    "    print \"sum is %d\"%s\n",
    "    print \"average is %d\"%avg\n",
    "    break\n"
   ]
  },
  {
   "cell_type": "code",
   "execution_count": null,
   "metadata": {
    "collapsed": true
   },
   "outputs": [],
   "source": [
    "#32)l=[10,20,30,[40,50,60],70,[80,90,20]]. Convert this list as sigle dimentional list\n",
    "\n",
    "l=[10,20,30,[40,50,60],70,[80,90,20]]\n",
    "l1=[]\n",
    "for i in l:\n",
    "    if type(i) is list:\n",
    "        for k in i:\n",
    "            l1.append(k)\n",
    "    else:\n",
    "        l1.append(i)\n",
    "print l1\n"
   ]
  },
  {
   "cell_type": "code",
   "execution_count": 10,
   "metadata": {
    "collapsed": false
   },
   "outputs": [
    {
     "name": "stdout",
     "output_type": "stream",
     "text": [
      "Enter the string::susus\n",
      "3\n",
      "count of character s is  3\n",
      "count of character u is  2\n",
      "{'s': 3, 'u': 2}\n"
     ]
    }
   ],
   "source": [
    "#33)input: \"google\" print count of each character\n",
    "\n",
    "string=raw_input(\"Enter the string::\")\n",
    "dict1={}\n",
    "\n",
    "for i in string:\n",
    "    \n",
    "        \n",
    "    #print \"charcter %s = %s\" %(i,string.count(i))\n",
    "    dict1[i] = string.count(i)\n",
    "    \n",
    "\n",
    "\n",
    "        \n",
    "#print \"count of the %s is %s\" %(i,count)\n",
    "\n",
    "for i in dict1:\n",
    "    print \"count of character %s is \" %i,dict1[i]\n",
    "print dict1\n"
   ]
  },
  {
   "cell_type": "code",
   "execution_count": null,
   "metadata": {
    "collapsed": true
   },
   "outputs": [],
   "source": [
    "#34)Convert n dimentional list to single dimentiona list\n",
    "\n",
    "l=[80,90,2,[1,2,[3,4,[1,2,[5,6],4]]]]\n",
    "l1=[]\n",
    "\n",
    "def f1(list1):\n",
    "        for k in list1:\n",
    "                if type(k) is list:\n",
    "                        f1(k)\n",
    "                else:\n",
    "                        l1.append(k)    \n",
    "    \n",
    "\n",
    "\n",
    "for i in l:\n",
    "        if type(i) is list:\n",
    "                f1(i) \n",
    "        else:\n",
    "                l1.append(i)\n",
    "print l1\n"
   ]
  },
  {
   "cell_type": "code",
   "execution_count": null,
   "metadata": {
    "collapsed": true
   },
   "outputs": [],
   "source": [
    "#35)l=[1,2,3] just make it as a string\n",
    "\n",
    "l=[1,2,3]\n",
    "string=\"\"\n",
    "for i in l:\n",
    "    string=string+str(i)\n",
    "print \"string is \",string\n"
   ]
  },
  {
   "cell_type": "code",
   "execution_count": null,
   "metadata": {
    "collapsed": true
   },
   "outputs": [],
   "source": [
    "#36)l=[1,2,3,[4,5,6],7,[8,9,10]] for single dimentional list\n",
    "\n",
    "l=[1,2,3,[4,5,6],7,[8,9,10]] \n",
    "l1=[]\n",
    "for i in l:\n",
    "    if type(i) is list:\n",
    "        for k in i:\n",
    "            l1.append(k)\n",
    "    else:\n",
    "        l1.append(i)\n",
    "print l1\n"
   ]
  },
  {
   "cell_type": "code",
   "execution_count": null,
   "metadata": {
    "collapsed": true
   },
   "outputs": [],
   "source": [
    "#37)l=['a','A','b','B','d','D','c','C'] WAP to find out case insensitive count and case insensitive search for an element\n",
    "\n",
    "\n",
    "\n",
    "l=['a','A','b','B','d','D','c','C','D','d']\n",
    "usr_input = raw_input(\"Enter the substring to be searched and count the occurances\")\n",
    "a=usr_input.lower()\n",
    "usr_inputc=0\n",
    "s=str(l)\n",
    "new_string=s.lower()\n",
    "\n",
    "print type(s)\n",
    "\n",
    "for i in l:\n",
    "        if s.find(usr_input) ==-1:\n",
    "                print \"substring not found\"\n",
    "\t\tbreak\n",
    "        else:\n",
    "                usr_inputc = new_string.count(a)\n",
    "                \n",
    "                break\n",
    "print \"count of the %s is %s\" %(usr_input,usr_inputc)"
   ]
  },
  {
   "cell_type": "code",
   "execution_count": 20,
   "metadata": {
    "collapsed": false
   },
   "outputs": [
    {
     "name": "stdout",
     "output_type": "stream",
     "text": [
      "PRESS x TO EXIT FROM THE LOOP\n",
      "enter the elements to the list 2\n",
      "enter the elements to the list 9\n",
      "enter the elements to the list 4\n",
      "enter the elements to the list 3\n",
      "enter the elements to the list 1\n",
      "enter the elements to the list x\n",
      "original list is [2, 9, 4, 3, 1]\n",
      "sorted list is  [1, 2, 3, 4, 9]\n"
     ]
    }
   ],
   "source": [
    "#38)sort the list properly\n",
    "\n",
    "\n",
    "\n",
    "def sort_list(tempList):   \n",
    "    \n",
    "    l1 = []\n",
    "    \n",
    "    while tempList:\n",
    "        t = tempList[0]\n",
    "        for i in tempList:\n",
    "            if i < t:\n",
    "                t = i\n",
    "        l1.append(t)\n",
    "        tempList.remove(t)\n",
    "        \n",
    "    print \"sorted list is \",l1\n",
    "    \n",
    "print(\"PRESS x TO EXIT FROM THE LOOP\")\n",
    "tempList = []\n",
    "\n",
    "x=True\n",
    "while x:\n",
    "\n",
    "    numlist = raw_input(\"enter the elements to the list \")\n",
    "    if numlist.isdigit():\n",
    "        numlist=int(numlist)\n",
    "    if numlist=='x':\n",
    "        break\n",
    "    else:\n",
    "        #tempList.append(int(numlist))\n",
    "        \n",
    "            \n",
    "            tempList.append(numlist)\n",
    "\n",
    "\n",
    "print \"original list is\",tempList \n",
    "\n",
    "sort_list(tempList)"
   ]
  },
  {
   "cell_type": "code",
   "execution_count": 3,
   "metadata": {
    "collapsed": false
   },
   "outputs": [
    {
     "name": "stdout",
     "output_type": "stream",
     "text": [
      "Enter the string to find out the largest block index::wwwwwwwwadadadadddddddd\n",
      "Index of the largest block ['wwwwwwww', 'dddddddd'] in the given string is [0, 15] respectively\n"
     ]
    }
   ],
   "source": [
    "#39. find the start position of the largest block of repeated characters in a given string\n",
    "\n",
    "str1=raw_input(\"Enter the string to find out the largest block index::\")\n",
    "str2=\"\"\n",
    "str3=[]\n",
    "index1 = 0\n",
    "for i in range(len(str1)):\n",
    "    if i==(len(str1))-1:\n",
    "        str2 = str2+str1[i]\n",
    "        str3.append(str2)\n",
    "        str2=\"\"\n",
    "    else:\n",
    "        if str1[i]==str1[i+1]:\n",
    "            str2 =str2+str1[i]\n",
    "            \n",
    "        else:\n",
    "            str2 = str2+str1[i]\n",
    "            str3.append(str2)\n",
    "            str2=\"\"\n",
    "\n",
    "index1 = 0\n",
    "str4 = \"\"\n",
    "str5 = []\n",
    "str6 = []\n",
    "\n",
    "for i in range(len(str3)):\n",
    "\n",
    "    if index1 < len(str3[i]):\n",
    "               index1 = len(str3[i])\n",
    "               str4 = str3[i]\n",
    "\n",
    "for i in range(len(str3)):\n",
    "    if index1 == len(str3[i]):\n",
    "        str6.append(str3[i])\n",
    "        str5.append(str1.index(str3[i]))\n",
    "\n",
    "print \"Index of the largest block {0} in the given string is {1} respectively\".format(str6,str5)"
   ]
  },
  {
   "cell_type": "code",
   "execution_count": 7,
   "metadata": {
    "collapsed": false
   },
   "outputs": [
    {
     "name": "stdout",
     "output_type": "stream",
     "text": [
      "Input= [1, 2, 3, 5, 7, 8, 9, 10, 11, 12, 13, 20, 22, 23, 24, 25, 26, 27, 20, 21, 22, 4]\n",
      "Output_list= [[1, 2, 3], [5], [7, 8, 9, 10, 11, 12, 13], [20], [22, 23, 24, 25, 26, 27], [20, 21, 22], [4]]\n"
     ]
    }
   ],
   "source": [
    "#48. l=[1,2,3,5,7,8,9,10,11,12,13,20,22,23,24,25,26,27,20,21,22,4] output = [[1, 2, 3], [5], [7, 8, 9, 10, 11, 12, 13], [20], [22, 23, 24, 25, 26, 27], [20, 21, 22], [4]]\n",
    "\n",
    "list1=[1,2,3,5,7,8,9,10,11,12,13,20,22,23,24,25,26,27,20,21,22,4]\n",
    "print \"Input=\",list1\n",
    "list2=[]\n",
    "list3=[]\n",
    "\n",
    "for i in range(len(list1)):\n",
    "    \n",
    "    if i==len((list1))-1:\n",
    "        list2.append(list1[i])\n",
    "        list3.append(list2)\n",
    "        #print list2\n",
    "        list2=[]\n",
    "    else:\n",
    "    \n",
    "        if list1[i]+1==list1[i+1]:\n",
    "            list2.append(list1[i])\n",
    "        else:\n",
    "            list2.append(list1[i])\n",
    "            #print list2\n",
    "            list3.append(list2)\n",
    "            list2=[]\n",
    "    \n",
    "        \n",
    "print \"Output_list=\",list3"
   ]
  },
  {
   "cell_type": "code",
   "execution_count": 20,
   "metadata": {
    "collapsed": false
   },
   "outputs": [
    {
     "name": "stdout",
     "output_type": "stream",
     "text": [
      "[1, 2, 3, 4, 2, 4, 7, 6, 4, 5, 6, 7]\n",
      "union [1, 3, 2, 4, 5, 6, 7]\n",
      "Intersection is  [4, 7, 6]\n"
     ]
    }
   ],
   "source": [
    "#40. WAP to find union and intersection of lists.\n",
    "\n",
    "def list_union():\n",
    "    a=[1,2,3,4,2,4,7,6]\n",
    "    b=[4,5,6,7]\n",
    "    c=a+b\n",
    "    print c\n",
    "    for i in c:\n",
    "        if c.count(i)>1:\n",
    "            c.remove(i)\n",
    "    print \"union\", c\n",
    "\n",
    "\n",
    "\n",
    "def list_inter():\n",
    "    #print a,b\n",
    "    a=[1,2,3,4,2,4,7,6]\n",
    "    b=[4,5,6,7]\n",
    "    d=[]\n",
    "    for x in a:\n",
    "        for y in b:\n",
    "            if (x==y) and (y not in d):\n",
    "                d.append(x)\n",
    "    print \"Intersection is \", d\n",
    "#list_inter()\n",
    "                \n",
    "\n",
    "\n",
    "list_union()\n",
    "list_inter()"
   ]
  },
  {
   "cell_type": "code",
   "execution_count": null,
   "metadata": {
    "collapsed": true
   },
   "outputs": [],
   "source": [
    "#41:input: fun(5) output: [1,2,3,4,3,2,1]\n",
    "========================================\n",
    "\n",
    "usr_input=input(\"Enter the num\")\n",
    "#temp=[]\n",
    "range(1,usr_input,1)+range(usr_input,0,-1)\n",
    "#i=1\n",
    "#while i < usr_input:\n",
    "    #temp=temp+[i]\n",
    "    #i+=1\n",
    "    #if i == usr_input:\n",
    "        #temp=temp+range(usr_input,0,-1)\n",
    "#print temp"
   ]
  },
  {
   "cell_type": "code",
   "execution_count": null,
   "metadata": {
    "collapsed": true
   },
   "outputs": [],
   "source": [
    "#42.input fun('abc') output: [[],][a],[b],[c],[a,b],[b,c],[c,a],[a,b,c]]\n",
    "\n",
    "\n",
    "import itertools\n",
    "def fun(l):\n",
    "    list2=[]\n",
    "    for L in range(0, len(l)+1):\n",
    "        for subset in itertools.combinations(l, L):\n",
    "            list2.append(subset)\n",
    "    return list2\n",
    "string=raw_input(\"Enter a string:\")\n",
    "list1=list(string)\n",
    "x=fun(list1)\n",
    "output=[]\n",
    "for i in x:\n",
    "    if type(i)==tuple:\n",
    "        output.append(list(i))\n",
    "print x"
   ]
  },
  {
   "cell_type": "code",
   "execution_count": null,
   "metadata": {
    "collapsed": true
   },
   "outputs": [],
   "source": [
    "#43) Remove duplicates from the list: a=[1,2,3,2,3,4,1,3,4]\n",
    "\n",
    "a = [1,2,3,2,3,4,1,3,4]\n",
    "\n",
    "s = []\n",
    "for i in a:\n",
    "    if i not in s:\n",
    "        s.append(i)\n",
    "print s"
   ]
  },
  {
   "cell_type": "code",
   "execution_count": null,
   "metadata": {
    "collapsed": true
   },
   "outputs": [],
   "source": [
    "#44. l=['1','2','3'] get the sum of the list\n",
    "\n",
    "\n",
    "l=['1','2','3']\n",
    "l1=[]\n",
    "s=0\n",
    "for i in l:\n",
    "    l1=l1+[int(i)]\n",
    "\n",
    "for k in l1:\n",
    "    s=s+k\n",
    "        \n",
    "    #s=sum(l1)\n",
    "print l1\n",
    "\n",
    "print \"sum is %d\"%s"
   ]
  },
  {
   "cell_type": "code",
   "execution_count": null,
   "metadata": {
    "collapsed": true
   },
   "outputs": [],
   "source": [
    "#45.l1=[1,2,3,4] l2=[5,6,7,8] sum of two lists\n",
    "\n",
    "\n",
    "l1=[1,2,3,4] \n",
    "l2=[5,6,7,8]\n",
    "t=zip(l1,l2)\n",
    "print t\n",
    "sum=[]\n",
    "sum=[i+j for i,j in t]     \n",
    "print \"sum list is %s\"%sum"
   ]
  },
  {
   "cell_type": "code",
   "execution_count": 8,
   "metadata": {
    "collapsed": false
   },
   "outputs": [
    {
     "name": "stdout",
     "output_type": "stream",
     "text": [
      "sorted list is  [2, 3, 4, 5, 5, 5, 6, 9, 9]\n",
      "third max value is [2, 3, 4, 5, 6, 9]\n",
      "5\n"
     ]
    }
   ],
   "source": [
    "#46.Find third max value of element in a list with sorting and without sorting a list.\n",
    "\n",
    "def sort_list(tempList):   \n",
    "    \n",
    "    l1 = []\n",
    "    while tempList:\n",
    "        t = tempList[0]\n",
    "        for i in tempList:\n",
    "            if i < t:\n",
    "                t = i\n",
    "        l1.append(t)\n",
    "        tempList.remove(t)\n",
    "            \n",
    "        \n",
    "        \n",
    "    print \"sorted list is \",l1\n",
    "    \n",
    "    x = list(set(l1)) # this will return a list with distinct values from a given list\n",
    "    print \"third max value is\",x \n",
    "    print x[-3] # this is the third max.\n",
    "    \n",
    "    \n",
    "    \n",
    "    \n",
    "    \n",
    "sort_list([9,9,2, 4, 5, 3, 5, 5, 6])\n",
    "\n",
    "\n"
   ]
  },
  {
   "cell_type": "code",
   "execution_count": 7,
   "metadata": {
    "collapsed": false
   },
   "outputs": [
    {
     "name": "stdout",
     "output_type": "stream",
     "text": [
      "third max value is  5\n"
     ]
    }
   ],
   "source": [
    "#46.Find third max value of element in a list with sorting and without sorting a list.\n",
    "l1=[9,9,2, 4, 5, 3, 5, 5, 6]\n",
    "l1.sort()\n",
    "x=[]\n",
    "x=list(set(l1))\n",
    "print \"third max value is \",x[-3]"
   ]
  },
  {
   "cell_type": "code",
   "execution_count": null,
   "metadata": {
    "collapsed": true
   },
   "outputs": [],
   "source": [
    "#47. Input = [\"1/1\",\"1/2\",\"1/3\",\"1/4\",\"2/5\",\"2/6\",\"2/8\"] Output = [['1/1-4'], ['2/5-6'], ['2/8']]"
   ]
  },
  {
   "cell_type": "code",
   "execution_count": null,
   "metadata": {
    "collapsed": true
   },
   "outputs": [],
   "source": [
    "#49. input = 1,2,3,4,5,6,8,10 output = odd,even,odd,even,odd,even,even,even\n",
    "\n",
    "c = int(raw_input(\"No.of inputs:\"))\n",
    "l1 =[]\n",
    "l2 = []\n",
    "\n",
    "for i in range(c):\n",
    "    l1.append(raw_input(\"Enter a value:\"))\n",
    "    \n",
    "    if i%2==0:\n",
    "        print l2.append(\"even\")\n",
    "    else:\n",
    "        print l2.append(\"odd\")\n",
    "print l1\n",
    "print l2"
   ]
  },
  {
   "cell_type": "code",
   "execution_count": null,
   "metadata": {
    "collapsed": true
   },
   "outputs": [],
   "source": [
    "'''50. input n=3 \n",
    "    output: \n",
    "    111\n",
    "    101\n",
    "    111'''\n",
    "\n",
    "n=input(\"enter number\")\n",
    "for i in range(n):\n",
    "    \n",
    "    if i > 0 and i < n-1:\n",
    "        s = \"1\" * n\n",
    "        s = list(s)\n",
    "        for i in range(len(s)):\n",
    "            if i > 0 and i < len(s)-1:\n",
    "                s[i] = \"0\"\n",
    "        s = \"\".join(s)\n",
    "        print s\n",
    "    else:\n",
    "        print \"1\" * n"
   ]
  },
  {
   "cell_type": "code",
   "execution_count": 11,
   "metadata": {
    "collapsed": false
   },
   "outputs": [
    {
     "name": "stdout",
     "output_type": "stream",
     "text": [
      "Enter the stringgoogle\n",
      "{'e': 1, 'o': 2, 'g': 2, 'l': 1}\n"
     ]
    }
   ],
   "source": [
    "#51. input: google output: {'g':2,'o':2,'l':1,'e':1} use dictionary comprehension\n",
    "string = raw_input(\"Enter the string\")\n",
    "\n",
    "d={i:string.count(i) for i in string}\n",
    "print d"
   ]
  },
  {
   "cell_type": "code",
   "execution_count": 12,
   "metadata": {
    "collapsed": false
   },
   "outputs": [
    {
     "name": "stdout",
     "output_type": "stream",
     "text": [
      "k1\n",
      "k2\n",
      "k3\n",
      "{'k3': 'v3', 'k2': 'v2', 'k1': 'v1'}\n"
     ]
    }
   ],
   "source": [
    "#52. keys=['k1','k2'], values = ['v1','v2'] form a dictionary.\n",
    "\n",
    "keys=['k1','k2','k3']\n",
    "values = ['v1','v2','v3']\n",
    "\n",
    "dict1 = {}\n",
    "j = 0\n",
    "for i in keys:\n",
    "    print i\n",
    "    dict1[i] = values[j]\n",
    "    j = j+1\n",
    "print dict1\n"
   ]
  },
  {
   "cell_type": "code",
   "execution_count": null,
   "metadata": {
    "collapsed": true
   },
   "outputs": [],
   "source": [
    "#53. Sort the list marks = [(\"mohan\", 80), (\"satish\", 90), (\"purnesh\", 40), (\"venkat\", 30)] acording to descending order of marks\n",
    "\n",
    "def sort_mrk(l1):\n",
    "    new_list=[]\n",
    "    while l1:\n",
    "        base_num=l1[0]\n",
    "        mark_tuple=l1[0][1]\n",
    "        for i in l1:\n",
    "            \n",
    "            t=i[1]\n",
    "            if mark_tuple < t:\n",
    "                base_num = i\n",
    "        new_list.append(base_num)\n",
    "        l1.remove(base_num)\n",
    "        \n",
    "    print \"sorted list:\",new_list\n",
    "\n",
    "num_stud=input(\"enter the number of students\")\n",
    "l1 = []\n",
    "#while True:\n",
    "for i in range(num_stud):\n",
    "    \n",
    "    x=raw_input(\"Enter name :\")\n",
    "    y=input(\"Enter Marks\")\n",
    "    \n",
    "    l1.append((x,y))\n",
    "print l1\n",
    "\n",
    "\n",
    "sort_mrk(l1)\n"
   ]
  },
  {
   "cell_type": "code",
   "execution_count": 2,
   "metadata": {
    "collapsed": false
   },
   "outputs": [
    {
     "name": "stdout",
     "output_type": "stream",
     "text": [
      "Enter the first elemnent in the list2\n",
      "Enter end value in the list3\n",
      "Enter the step value 4\n",
      "[2]\n",
      "[2.0]\n"
     ]
    }
   ],
   "source": [
    "#54. write a function to get dynamic list for floating numbers also based on strat and end and step parameters\n",
    "\n",
    "start=input(\"Enter the first elemnent in the list\")\n",
    "end=input(\"Enter end value in the list\")\n",
    "step=input(\"Enter the step value \")\n",
    "temp=[]\n",
    "def float_fun():\n",
    "    \n",
    "    for i in range(start,end,step):\n",
    "        temp.append(i)\n",
    "    print temp\n",
    "    for j in range(len(temp)):\n",
    "        temp[j] = float(temp[j])\n",
    "        \n",
    "    print temp\n",
    "float_fun()\n"
   ]
  },
  {
   "cell_type": "code",
   "execution_count": null,
   "metadata": {
    "collapsed": true
   },
   "outputs": [],
   "source": [
    "#55. find out all perfect numbers in given range\n",
    "\n",
    "x = input(\"Enter the range\")\n",
    "\n",
    "print \"Perfect numbers are\"\n",
    "\n",
    "for i in range(1,x+2):\n",
    "    temp = []\n",
    "    s1 = 0\n",
    "    for j in range(1,i):\n",
    "        if i%j == 0:\n",
    "            temp.append(j)\n",
    "     \n",
    "    for k in temp:\n",
    "        s1 = s1 + k\n",
    "        \n",
    "    if s1 == i:\n",
    "        print i,\n"
   ]
  },
  {
   "cell_type": "code",
   "execution_count": 8,
   "metadata": {
    "collapsed": false
   },
   "outputs": [
    {
     "name": "stdout",
     "output_type": "stream",
     "text": [
      "Enter the no of elements to be stored in stack:2\n",
      "Enter element 0:0\n",
      "Enter element 1:3\n",
      "Stack after Push [3]\n",
      "Popping 2th element: 3\n",
      "Popping 1th element: Stack Underflow!\n",
      "0\n",
      "Stack after Popping! []\n"
     ]
    }
   ],
   "source": [
    "#56. WAP to do all stack operations using lists\n",
    "\n",
    "def push(self):\n",
    "    if len(stack) >= limit:\n",
    "        print 'Stack Overflow!'\n",
    "    else:\n",
    "        stack.append(contents)\n",
    "    print 'Stack after Push',stack\n",
    "def pop():\n",
    "    if len(stack) <= 0:\n",
    "        print 'Stack Underflow!'\n",
    "        return 0\n",
    "    else:\n",
    "        return stack.pop()\n",
    "\n",
    "\n",
    "if __name__==\"__main__\":\n",
    "    stack = []\n",
    "    limit = input('Enter the no of elements to be stored in stack:')\n",
    "    for t in range(limit):\n",
    "        contents = input('Enter element '+str(t)+':')\n",
    "    push(contents)\n",
    "    \n",
    "    for t in range(limit):\n",
    "        print 'Popping '+str(limit-t)+'th element:',pop()\n",
    "    print 'Stack after Popping!',stack"
   ]
  },
  {
   "cell_type": "code",
   "execution_count": null,
   "metadata": {
    "collapsed": true
   },
   "outputs": [],
   "source": []
  },
  {
   "cell_type": "code",
   "execution_count": null,
   "metadata": {
    "collapsed": true
   },
   "outputs": [],
   "source": [
    "#57  WAP to do all queue operations using lists\n",
    "\n",
    "class Queue:\n",
    "    def __init__(self):\n",
    "        self.items = []\n",
    "\n",
    "    def isEmpty(self):\n",
    "        return self.items == []\n",
    "\n",
    "    def enqueue(self, item):\n",
    "        self.items.insert(0,item)\n",
    "\n",
    "    def dequeue(self):\n",
    "        return self.items.pop()\n",
    "\n",
    "    def size(self):\n",
    "        return len(self.items)\n",
    "s=Queue()\n",
    "print \"To know whether queue is empty or not:\",s.isEmpty()\n",
    "s.enqueue('process1')\n",
    "s.enqueue('process2')\n",
    "s.enqueue('process3')\n",
    "s.enqueue('process4')\n",
    "print \"The size of queue:\", s.size()\n",
    "print \" remove the element from the queue:\",s.dequeue()"
   ]
  },
  {
   "cell_type": "code",
   "execution_count": 9,
   "metadata": {
    "collapsed": false
   },
   "outputs": [
    {
     "name": "stdout",
     "output_type": "stream",
     "text": [
      "No.of inputs:4\n",
      "Enter a value:1\n",
      "Enter a value:5\n",
      "Enter a value:1\n",
      "Enter a value:3\n",
      "Enter the element to be removed1\n",
      "how many occurances do you want to remove1\n",
      "['1', '5', '1', '3']\n",
      "['5', '1', '3']\n"
     ]
    }
   ],
   "source": [
    "#58. WAP to remove n occurances of specified element from a list\n",
    "l1=[]\n",
    "c = int(raw_input(\"No.of inputs:\"))\n",
    "for i in range(c):\n",
    "    l1.append(raw_input(\"Enter a value:\"))\n",
    "n = raw_input(\"Enter the element to be removed\")\n",
    "m = int(raw_input(\"how many occurances do you want to remove\")) \n",
    "print l1\n",
    "for i in range(m):\n",
    "    l1.remove(n)\n",
    "print l1"
   ]
  },
  {
   "cell_type": "code",
   "execution_count": null,
   "metadata": {
    "collapsed": true
   },
   "outputs": [],
   "source": [
    "#59. copy 1 file content in to another file(Take the source and destination file path from the user)\n",
    "\n",
    "input_file = raw_input(\"Enter the file name\")\n",
    "out_file = raw_input(\"Enter the destination file to which the content is to be copied\")\n",
    "\n",
    "infile = open(input_file,\"w+\")\n",
    "outfile = open(out_file,\"w+\")\n",
    "\n",
    "infile.write(\"Hi Sugitha\")\n",
    "\n",
    "infile.close()\n",
    "\n",
    "read1 = open(input_file,'r')\n",
    "for i in read1:\n",
    "    outfile.write(i)\n",
    "    \n",
    "\n",
    "read1.close() \n",
    "outfile.close()\n"
   ]
  },
  {
   "cell_type": "code",
   "execution_count": null,
   "metadata": {
    "collapsed": true
   },
   "outputs": [],
   "source": [
    "#60. Show the below menu to the user:1. Add a row\n",
    "#2. modify a row\n",
    "#3. delete a row\n",
    "#Go with one unique field in the file. And maintain that unique constraint in all file modifiction operations\n",
    "#Use .CSV file for this program\n",
    "\n",
    "def add_header():\n",
    "    header = []\n",
    "    \n",
    "    while True:\n",
    "        header1 = raw_input(\"Enter the header field:\")\n",
    "        if header1 == \"\":\n",
    "            break\n",
    "        else:\n",
    "            header.append(header1)\n",
    "    \n",
    "\n",
    "def add_row():\n",
    "    f = open(\"data1.csv\",\"a+\")\n",
    "    list1 =f.readlines()\n",
    "    id1 =len(list1)\n",
    "    print id1\n",
    "    row_list = []\n",
    "    row_num = input(\"Please enter the number of rows to be added:\")\n",
    "    \n",
    "    \n",
    "    for i in range(row_num):\n",
    "        id1 = id1+1\n",
    "        name = raw_input(\"Enter name:\")\n",
    "        age = raw_input(\"Enter age:\")\n",
    "\n",
    "        \n",
    "        r1 = \"{0},{1},{2}\".format(id1,name,age)\n",
    "        r1 = r1+\"\\n\"\n",
    "        row_list.append(r1)\n",
    "    print row_list\n",
    "    print f.tell()    \n",
    "    f.writelines(row_list)\n",
    "    f.close()\n",
    "        \n",
    "#    #pass\n",
    "#\n",
    "def modify_row():\n",
    "    f1 = open(\"data1.csv\",\"r\")\n",
    "    \n",
    "    data = f1.readlines()\n",
    "    f1.close()\n",
    "    print data\n",
    "    modify_data = raw_input(\"Enter the id of the record to be modified::\")\n",
    "    f2 = 0\n",
    "    for i in data:\n",
    "        \n",
    "        i = i.split(\",\")\n",
    "        \n",
    "        if not cmp(i[0], modify_data):\n",
    "            k= \",\".join(i)\n",
    "            modify_field = raw_input(\"Which field you need to modify:\")\n",
    "            modify_field = modify_field.lower()\n",
    "            \n",
    "            if modify_field == \"name\":\n",
    "                new_name = raw_input(\"Enter new name::\")\n",
    "                i[1] = new_name \n",
    "                \n",
    "            elif modify_field == \"age\":\n",
    "                new_age = raw_input(\"Enter age\")\n",
    "                i[2] = new_age +\"\\n\"\n",
    "                \n",
    "            i =\",\".join(i)\n",
    "            f2 =1\n",
    "            break\n",
    "    \n",
    "    if f2:\n",
    "        \n",
    "        print \"Data modified\"\n",
    "        print k\n",
    "        data.remove(k)\n",
    "        data.append(i)\n",
    "        print data\n",
    "        f1 = open(\"data1.csv\",\"w\")\n",
    "        f1.writelines(data)\n",
    "        f1.close()\n",
    "        \n",
    "        \n",
    "    else:\n",
    "        print \"id does not exist\"\n",
    "    \n",
    "    \n",
    "#    pass\n",
    "def delete_row():\n",
    "    f1 = open(\"data1.csv\",\"r\")\n",
    "    \n",
    "    data1 = f1.readlines()\n",
    "    f1.close()\n",
    "    \n",
    "    del_id1 = raw_input(\"Enter the id of row to be deleted::\")\n",
    "    print data1\n",
    "    flag = 0\n",
    "    for i in data1:\n",
    "        print \"i\",type(i)\n",
    "        i = i.split(\",\")\n",
    "        if not cmp(i[0],del_id1):\n",
    "            \n",
    "            x = \",\".join(i)\n",
    "    \n",
    "           \n",
    "    \n",
    "            print \"x=\",x\n",
    "            #data1.remove(x)\n",
    "            flag = 1\n",
    "            break\n",
    "    if flag:\n",
    "        \n",
    "        \n",
    "        print \"Data deleted\"\n",
    "        print x\n",
    "        data1.remove(x)\n",
    "        print data1\n",
    "        \n",
    "        \n",
    "        print data1\n",
    "        f1 = open(\"data1.csv\",\"w\")\n",
    "        f1.writelines(data1)\n",
    "        f1.close()\n",
    "    \n",
    "\n",
    "   # pass\n",
    "#\n",
    "#\n",
    "if __name__==\"__main__\":\n",
    "    #add_header()\n",
    "    \n",
    "    \n",
    "    while True:\n",
    "        print \"Menu\\n 1.Add row\\n 2.Modify row\\n 3.delete row\\n 4.Exit\"\n",
    "        x= raw_input(\"enter the option::\")\n",
    "        if x==\"1\":\n",
    "            add_row()\n",
    "        elif x==\"2\":\n",
    "            modify_row()\n",
    "        elif x==\"3\":\n",
    "            delete_row()\n",
    "        elif x==\"4\":\n",
    "            print \"exiting\"\n",
    "            break"
   ]
  },
  {
   "cell_type": "code",
   "execution_count": null,
   "metadata": {
    "collapsed": true
   },
   "outputs": [],
   "source": [
    "#61. number of lines, words, characters\n",
    "\n",
    "def wordcount():\n",
    "    fp=open(\"hello1.txt\",\"r+\")\n",
    "    data=fp.read()\n",
    "    word_count=1\n",
    "    w = len(data.split())\n",
    "    print \"Number of words in the given file is\", w\n",
    "    fp.close()\n",
    "\n",
    "def linecount():\n",
    "    \n",
    "    f1 = open(\"hello1.txt\",\"r+\")\n",
    "    f = f1.read()\n",
    "    line_count = 1\n",
    "    l=len(f.split(\"\\n\"))\n",
    "    print \"Number of lines in the given file are\",l\n",
    "    f1.close()\n",
    "\n",
    "def charcount():\n",
    "    f2 = open(\"hello1.txt\",\"r+\")\n",
    "    f = f2.read()\n",
    "    count = 0\n",
    "    for i in f:\n",
    "        \n",
    "    \n",
    "        count = count+len(i)\n",
    "    print count\n",
    "    \n",
    "    \n",
    "while True:\n",
    "    print \"File operations\\n1.Word count\\n2.Line count\\n3.Charcter count\\n4.Exit\"\n",
    "    choice = raw_input(\"Enter your choice\")\n",
    "    if choice == \"1\":\n",
    "        wordcount()\n",
    "    if choice == \"2\":\n",
    "        linecount()\n",
    "    if choice ==\"3\":\n",
    "        charcount()\n",
    "    if choice ==\"4\":\n",
    "        print \"Exiting from the file perations\"\n",
    "\n",
    "         break\n"
   ]
  },
  {
   "cell_type": "code",
   "execution_count": 13,
   "metadata": {
    "collapsed": false
   },
   "outputs": [
    {
     "name": "stdout",
     "output_type": "stream",
     "text": [
      "data [\"{'name':'Sugitha', 'place':'Hyderabad' }\"]\n",
      "[\"{'name':'Sugitha', 'place':'Hyderabad' }\"]\n",
      "JSON: [u\"{'name':'Sugitha', 'place':'Hyderabad' }\"]\n"
     ]
    }
   ],
   "source": [
    "#62. convert .txt file in .json\n",
    "\n",
    "'''import json\n",
    "data  = {'name':'Sugitha', 'place':'Hyderabad' }\n",
    "\n",
    "file = open(\"output.txt\", \"w\")\n",
    "file.write(json.dumps(data))\n",
    "file.close()\n",
    "print data\n",
    "\n",
    "file = open(\"output.txt\", \"r\")\n",
    "text = json.loads(file.read())\n",
    "file.close()\n",
    "print text\n",
    "\n",
    "print text['name']'''\n",
    "\n",
    "\n",
    "import json\n",
    "f=open(\"C:\\Python27\\string.txt\",'r')\n",
    "data1=f.readlines()\n",
    "print 'data',data1\n",
    "data_string = json.dumps(data1)\n",
    "json_loads=json.loads(data_string)\n",
    "print  data_string\n",
    "print 'JSON:',json_loads\n",
    "f.close()\n"
   ]
  },
  {
   "cell_type": "code",
   "execution_count": null,
   "metadata": {
    "collapsed": true
   },
   "outputs": [],
   "source": [
    "#63. Take three columns disease, symptoms, advice in a file and fill the details Ask the user to enter symptoms. Based on this symptoms Suggest the user to what disease it may be and few advices.\n",
    "\n",
    "f1 = open('Source_63_csv.csv','r')\n",
    "    read_lines = f1.readlines()\n",
    "    f1.close()\n",
    "    print read_lines\n",
    "    menu = raw_input(\"Enter your symptoms\")\n",
    "    for i in read_lines:\n",
    "        if menu in i:\n",
    "            j=i.split(',')\n",
    "            print \"Mentioned symptoms Disease could be %s and Advices are %s\"%(j[0],j[4])"
   ]
  },
  {
   "cell_type": "code",
   "execution_count": null,
   "metadata": {
    "collapsed": true
   },
   "outputs": [],
   "source": [
    "#64.64. Take employees info (id,name, age, adress, sal, height, weight) a. Take id, provide employee information for that id.\n",
    "#b. find out average salary.\n",
    "#c. find out which age, address taking the heighest salary \n",
    "#d. find out every employee BMI value\n",
    "#e. Finally find out the Organization overall BMI\n",
    "\n",
    "#Assuming file emp_details.txt already exists with employee details.\n",
    "\n",
    "\n",
    "#def add_emp():\n",
    "#   \n",
    "#   f = open(\"emp_details.txt\",\"w+\")\n",
    "#   emp_count = input(\"How many employees to be added ::\")\n",
    "#   for i in range(emp_count):\n",
    "#       emp_id = raw_input(\"Enter the id of the employee:\")\n",
    "#       name = raw_input(\"Enter name of the employee:\")\n",
    "#       age = raw_input (\"Enter the age:\")\n",
    "#       address =raw_input(\"Enter address:\")\n",
    "#       sal =raw_input(\"Enter salary\")\n",
    "#       height = raw_input(\"Enter the height\")\n",
    "#       weight = raw_input (\"Enter the weight\")\n",
    "#       #emp_id =len(list1)\n",
    "#   \n",
    "#       s= emp_id+\"=\"+name+\",\"+age+\",\"+address+\",\"+sal+\",\"+height+\",\"+weight+\"\\n\"\n",
    "#       f.write(s)\n",
    "#   f.close()\n",
    "    \n",
    "def get_emp():\n",
    "    \n",
    "    \n",
    "    \n",
    "    f = open(\"emp_details.txt\",\"r+\")\n",
    "    data = f.readlines()\n",
    "    print data\n",
    "    \n",
    "    for i in data:\n",
    "        \n",
    "        i = i.strip(\"\\n\")\n",
    "        #print \"i=\",i\n",
    "        i = i.split(\"=\")\n",
    "        #print \"i=\",i\n",
    "        \n",
    "        val1 = i[1].split(\",\")\n",
    "        #print \"val1=\",val1\n",
    "        dict1[i[0]] = val1\n",
    "        print \"dict1=\",dict1[i[0]]\n",
    "        \n",
    "    f.close()\n",
    "    print \"emp_details=\",dict1[emp_id1]\n",
    "                \n",
    "def sal_average():\n",
    "    f = open(\"emp_details.txt\",\"r+\")\n",
    "    data = f.readlines()\n",
    "    print data\n",
    "    \n",
    "    val1 =0\n",
    "    for i in data:\n",
    "        i = i.strip(\"\\n\")\n",
    "        i = i.split(\",\")\n",
    "        val1 = val1+int(i[3])  \n",
    "    print val1/3\n",
    "    f.close()\n",
    "        \n",
    "        \n",
    "    \n",
    "    #pass\n",
    "\n",
    "def emp_highsal():\n",
    "    f = open(\"emp_details.txt\",\"r+\")\n",
    "    data = f.readlines()\n",
    "    print data\n",
    "    \n",
    "    val1 =0\n",
    "    high_sal = []\n",
    "    for i in data:\n",
    "        i = i.strip(\"\\n\")\n",
    "        i = i.split(\",\")\n",
    "        #print \"i=\",i\n",
    "        if int(i[3]) > val1:\n",
    "            val1=int(i[3])\n",
    "            high_sal = i\n",
    "    #print val1,high_sal\n",
    "    print \"Employee taking highest salary::age =\",high_sal[1],\"address=\",high_sal[2]\n",
    "    f.close()\n",
    "\n",
    "    \n",
    "    \n",
    "def emp_bmi():\n",
    "    \n",
    "    f = open(\"emp_details.txt\",\"r+\")\n",
    "    data = f.readlines()\n",
    "    bmi = 0\n",
    "    emp_id = raw_input(\"Enter ID of the employee to get BMI::\")\n",
    "    if cmp(emp_id,data[0]):\n",
    "        \n",
    "        for i in data:\n",
    "            i = i.strip(\"\\n\")\n",
    "            i = i.split(\",\")\n",
    "        \n",
    "            bmi = float(i[5])/float(i[4])\n",
    "            \n",
    "    print \"bmi=\",bmi\n",
    "    \n",
    "    f.close()  \n",
    "    \n",
    "    \n",
    "def org_bmi():\n",
    "    f = open(\"emp_details.txt\",\"r+\")\n",
    "    data = f.readlines()\n",
    "    org_bmi = 0    \n",
    "    for i in data:\n",
    "        i = i.strip(\"\\n\")\n",
    "        i = i.split(\",\")\n",
    "    \n",
    "        bmi = float(i[5])/float(i[4])  \n",
    "    org_bmi = bmi/len(data)\n",
    "    print \"Organizations overall BMI is=\",org_bmi\n",
    "    f.close()\n",
    "    \n",
    "\n",
    "\n",
    "\n",
    "\n",
    "if __name__ == \"__main__\":\n",
    "    dict1={}\n",
    "    #add_emp()\n",
    "    while True:\n",
    "        print \"1.Get information of an employee\\n 2.Average salary \\n 3.Calculate which employee taking highest salary \\n4.BMI value of employee \\n5.calculate overall BMI\\n 6.Quit\"\n",
    "        \n",
    "        choice = raw_input (\"Select your option\")\n",
    "        if choice == \"1\":\n",
    "            emp_id1 = raw_input(\"Enter employee id :\")\n",
    "            get_emp()\n",
    "            \n",
    "        elif choice ==\"2\":\n",
    "            sal_average()\n",
    "            \n",
    "        elif choice ==\"3\":\n",
    "            emp_highsal()\n",
    "            \n",
    "        elif choice ==\"4\":\n",
    "            emp_bmi()\n",
    "        elif choice == \"5\":\n",
    "            org_bmi()\n",
    "        elif choice ==\"6\":\n",
    "            print \"Exit\"\n",
    "            break\n",
    "            \n",
    "            \n"
   ]
  },
  {
   "cell_type": "code",
   "execution_count": null,
   "metadata": {
    "collapsed": true
   },
   "outputs": [],
   "source": [
    "#65 read the file which contains the size greater than your ram size"
   ]
  },
  {
   "cell_type": "code",
   "execution_count": null,
   "metadata": {
    "collapsed": true
   },
   "outputs": [],
   "source": [
    "#66.Read ten gb movie"
   ]
  },
  {
   "cell_type": "code",
   "execution_count": null,
   "metadata": {
    "collapsed": true
   },
   "outputs": [],
   "source": [
    "#68. Take Source and destination file paths from command line arguments and copy the sourcontent into destination. Make Sure that your program checking the below conditions.\n",
    "#1.if the source file not there. Should ask the user to enter new source file or want to quit a program\n",
    "#2.if the destination file already there in the specified path. Should warn the user want to proceed or want to enter new destination file name or want to quit\n",
    "\n",
    "import os\n",
    "source_file = raw_input(\"Enter the source file along with path::\")\n",
    "\n",
    "while 1:\n",
    "    \n",
    "    if os.path.isfile(source_file):\n",
    "        \n",
    "        print \"copy the file\"\n",
    "        f1 = open(source_file,\"r\")\n",
    "        list1 = f1.readlines()\n",
    "        \n",
    "        \n",
    "        dest_file = raw_input(\"Enter destination file::\")\n",
    "        while 1:\n",
    "            \n",
    "            if os.path.isfile(dest_file):\n",
    "                \n",
    "                k = raw_input(\"File exist and press y to continue or select different file to copy \")\n",
    "                if k == \"y\":\n",
    "                    \n",
    "                    f2 = open(dest_file,\"r+\")\n",
    "                    for i in list1:\n",
    "                        f2.write(i) \n",
    "                    print \"File has been copied\"\n",
    "                    break\n",
    "                else:\n",
    "                    \n",
    "                    dest_file = k\n",
    "                    f2 = open(dest_file,\"w+\")\n",
    "                    for i in list1:\n",
    "                        f2.write(i) \n",
    "                    print \"File has been copied\"  \n",
    "                    break\n",
    "                \n",
    "            else:\n",
    "                \n",
    "                q1 = raw_input(\"File not exists...Press y to create a file or press enter to give different file:: \")\n",
    "                if q1 == \"y\":\n",
    "                    temp1 = open(dest_file,\"w+\")\n",
    "                else:\n",
    "                    dest_file = raw_input(\"Enter new destination file::\")\n",
    "                    \n",
    "        break \n",
    "    else:\n",
    "        source_file = raw_input(\"File you entered doesn't exist :Please enter new file or pres q to quit \")\n",
    "        if source_file =='q':\n",
    "            break\n",
    "        \n",
    "            \n",
    "       \n"
   ]
  },
  {
   "cell_type": "code",
   "execution_count": null,
   "metadata": {
    "collapsed": true
   },
   "outputs": [],
   "source": [
    "#67. Collect emp information in a file Provide these operations. Menu:1. Get information information of an employee2. Modify employee information\n",
    "#3. delete an employee information (Only status field change in the employee file) 4. Add an employee.\n",
    "\n",
    "def add_info():\n",
    "    f = open(\"employee.txt\",\"a+\")\n",
    "    id = raw_input(\"Enter the id of the employee:\")\n",
    "    name = raw_input(\"Enter name of the employee:\")\n",
    "    age = raw_input (\"Enter the age:\")\n",
    "    gender =raw_input(\"Enter gender:\")\n",
    "    dept =raw_input(\"Enter department\")\n",
    "    s=\"\\n\"+id+\"=\"+name+\",\"+age+\",\"+gender+\",\"+dept\n",
    "    f.write(s)\n",
    "    f.close()\n",
    "    \n",
    "def get_info():\n",
    "    \n",
    "    \n",
    "    \n",
    "    f = open(\"employee.txt\",\"r+\")\n",
    "    data = f.readlines()\n",
    "   \n",
    "    for i in data:\n",
    "        \n",
    "        i = i.strip(\"\\n\")\n",
    "        i = i.split(\"=\")\n",
    "        val1 = i[1].split(\",\")\n",
    "        dict1[i[0]] = val1\n",
    "    f.close()\n",
    "                \n",
    "\n",
    "\n",
    "def check_info(id1):\n",
    "    \n",
    "    print dict1[id1]\n",
    "    \n",
    "    \n",
    "def modify_info(args):\n",
    "    mod_field = raw_input(\"Enter the field to be modified:1.name \\n2.age\\n3.gender\\n4.department\")\n",
    "    if mod_field==\"1\":\n",
    "        args[0] = raw_input(\"Enter the  name::\")\n",
    "    elif mod_field==\"2\":\n",
    "        args[1] = raw_input(\"Enter the age::\")\n",
    "    elif mod_field==\"3\":\n",
    "        args[1] = raw_input(\"Enter the gender::\")\n",
    "    elif mod_field==\"4\":\n",
    "        args[1] = raw_input(\"Enter the department::\")        \n",
    "        \n",
    "    return args\n",
    "    \n",
    "def update_file(dict1):\n",
    "    #print dict1\n",
    "    \n",
    "    f = open(\"employee.txt\",\"w\")\n",
    "    for i in dict1.keys():\n",
    "        \n",
    "        s = i +\"=\"+\",\".join(dict1[i])\n",
    "        f.write(s+\"\\n\")\n",
    "        f.close()\n",
    "       # print s\n",
    "       \n",
    "def delete_info(dict1):\n",
    "    id3=raw_input(\"Enter the id of the employee to be removed\")\n",
    "    dict1.pop(id3)\n",
    "    update_file(dict1)\n",
    "    \n",
    "    \n",
    "if __name__==\"__main__\":\n",
    "    \n",
    "    dict1 ={}\n",
    "    get_info()\n",
    "    while True:\n",
    "        \n",
    "        print \"1. Get information information of an employee\\n2. Modify employee information\\n3. delete an employee\\n4.Add an employee\\n\"\n",
    "        x=raw_input(\"Enter your option\")\n",
    "        if x =='1':\n",
    "            id1 =raw_input(\"Enter a employee id to fetch the data::\")\n",
    "            get_info()\n",
    "            check_info(id1)\n",
    "        elif x==\"2\":\n",
    "            get_info()\n",
    "            id2=raw_input(\"Enter id of the employee to be updated\")\n",
    "            dict1[id2]=modify_info(dict1[id2])\n",
    "            print dict1[id2]\n",
    "            update_file(dict1)\n",
    "            print \"Empolyee info is updated\"\n",
    "        elif x==\"3\":\n",
    "            get_info()\n",
    "            delete_info(dict1)\n",
    "            print \"Employee info is removed from the file\"\n",
    "        elif x==\"4\":\n",
    "            add_info()\n",
    "            print \"Employee info added\"\n",
    "        \n",
    "    "
   ]
  },
  {
   "cell_type": "code",
   "execution_count": null,
   "metadata": {
    "collapsed": true
   },
   "outputs": [],
   "source": [
    "#69 Bulk file copy\n",
    "\n",
    "import os\n",
    "import shutil\n",
    "with open('remarks.log','w') as log:\n",
    "    log.write('')\n",
    "if not os.path.exists(source):\n",
    "    if os.path.exists(dest):\n",
    "        with open('config.txt','r') as conf:\n",
    "            data = conf.readlines()\n",
    "        print data[0]\n",
    "        with open('remarks.log','a') as log:\n",
    "            log.write('File {} skipped from copy because no source file found'.format(dest))\n",
    "else:\n",
    "    if os.path.exists(dest):\n",
    "        with open('config.txt','r') as conf:\n",
    "            data = conf.readlines()\n",
    "        print data[1]\n",
    "        opt = raw_input()\n",
    "        if opt.lower() == 'skip':\n",
    "            with open('remarks.log','a') as log:\n",
    "                log.write('File {} skipped from copy '.format(dest))\n",
    "        else:\n",
    "            shutil.copy(source, dest)\n",
    "            with open('remarks.log','a') as log:\n",
    "                log.write('File {} copied because destination file found'.format(dest))"
   ]
  },
  {
   "cell_type": "code",
   "execution_count": null,
   "metadata": {
    "collapsed": true
   },
   "outputs": [],
   "source": [
    "#70.Write a class(DB) program to create a table, insert values, update values, delete values of the table. All database operations code write in a file(db_operations.py) and call these operations in another file( app.py).\n",
    "#In app.py create instance of the DB class and call all the methods by passing some data.\n",
    "\n",
    "db_operations.py\n",
    "****************\n",
    "import sqlite3\n",
    "def get_connection(database=None):\n",
    "    database = database if database else \"newdb.db\"\n",
    "    con = sqlite3.connect(database)\n",
    "    cur = con.cursor()\n",
    "    return con,cur\n",
    "\n",
    "\n",
    "def create_table():\n",
    "    try:\n",
    "        query= \"create table employee1(id int, name varchar(250),primary_key(id))\"\n",
    "        \n",
    "        con,cur=get_connection()\n",
    "        cur.execute(query)\n",
    "    except Exception as err:\n",
    "        print err\n",
    "    finally:\n",
    "        cur.close()\n",
    "        con.close()\n",
    "        \n",
    "def insert_table(id,name):\n",
    "    try:\n",
    "        con,cur = get_connection()\n",
    "        #for i in range(10):\n",
    "        query = \"insert into employee1(id,name) values (%d,\\\"%s\\\");\" %(id,name)\n",
    "        cur.execute(query)\n",
    "    except Exception as err:\n",
    "        print err\n",
    "    else:\n",
    "        con.commit()\n",
    "    finally:\n",
    "        cur.close()\n",
    "        con.close()\n",
    "        \n",
    "def update_table():\n",
    "    try:\n",
    "        con,cur = get_connection()\n",
    "        id1 = input(\"Enter an ID to change:\")\n",
    "        name1 =raw_input(\"Enter a name to set:\")\n",
    "        query = \"update employee1 set name =\\\"%s\\\" where id =%d;\" %(name1,id1)\n",
    "        cur.execute(query)\n",
    "    except Exception as err:\n",
    "        print err\n",
    "    else:\n",
    "        con.commit()\n",
    "    finally:\n",
    "        cur.close()\n",
    "        con.close()\n",
    "        \n",
    "def delete_table(id):\n",
    "    try:\n",
    "        con,cur = get_connection()\n",
    "        query = \"delete from employee1 where id =%d;\" %(id)\n",
    "        cur.execute(query)\n",
    "    except Exception as err:\n",
    "        print err\n",
    "    else:\n",
    "        con.commit()\n",
    "    finally:\n",
    "        cur.close()\n",
    "        con.close()  \n",
    "\n",
    "def browse():\n",
    "    try:\n",
    "        con,cur = get_connection()\n",
    "        query = \"select * from employee1 ;\"\n",
    "        cur.execute(query)\n",
    "        list1=cur.fetchall()\n",
    "        print list1\n",
    "    \n",
    "    except Exception as err:\n",
    "        print err\n",
    "    else:\n",
    "        con.commit()\n",
    "    finally:\n",
    "        cur.close()\n",
    "        con.close() \n",
    "\n",
    "\t\t\n",
    "app.py\n",
    "******\n",
    "import db_operations\n",
    "\n",
    "class Emp:\n",
    "    \n",
    "    #n=input(\"how many employees to be added \")\n",
    "    db_operations.create_table()\n",
    "    \n",
    "    \n",
    "    while True:\n",
    "        print \"1.Adding Employee\\n2.Updating Employee Info\\n3.Delete an employee record\\n4.Display all the records\\n5.Exit\"\n",
    "        usr_input = raw_input(\"Enter your choice:\")\n",
    "        if usr_input == '1':\n",
    "            n=input(\"how many employees to be added \")\n",
    "            for i in range(n):\n",
    "            \n",
    "                id = input(\"Enter the id\")\n",
    "                name =raw_input(\"Enter name\")\n",
    "                db_operations.insert_table(id,name)\n",
    "                print \"Record created successfully\"\n",
    "                #db_operations.browse()\n",
    "        if usr_input =='2':\n",
    "        \n",
    "            id=input(\"Enter the id of the employee to be updated\")\n",
    "            db_operations.update_table(id)\n",
    "                \n",
    "        if usr_input =='3':\n",
    "            id= input(\"Enter the id:\")\n",
    "            db_operations.delete_table(id)\n",
    "        if usr_input =='4':\n",
    "            db_operations.browse()\n",
    "        if usr_input =='5':\n",
    "            print \"Exit\"\n",
    "            break\n",
    "        \n",
    "       \n",
    "    \n",
    "obj = Emp()\n"
   ]
  },
  {
   "cell_type": "code",
   "execution_count": null,
   "metadata": {
    "collapsed": false
   },
   "outputs": [],
   "source": [
    "#71. write a program to do registration. Write a methods in a class DB to open database connection and insert details in to database table. \n",
    "#Write a Model parent class and implement a create method. Call a database insert method into the create method. Write child class person for Model and override method create method and call the parent(Model) class create method in the child(person) \n",
    "#create an instance of person class and call the create method.\n",
    "\n",
    "#class Database:\n",
    "    #def create(self):\n",
    "        #print \"create database and enter data into it\"\n",
    "        #pass\n",
    "\n",
    "#class Model(Database):\n",
    "    #obj = Database()\n",
    "    #print \"This is the parent class\"\n",
    "    #obj.create()\n",
    "    \n",
    "    #pass\n",
    "    \n",
    "#class Person(Model):\n",
    "        #print \"hai\"\n",
    "        #print \"this is child class\"\n",
    "        #p=Model()\n",
    "        #p.obj.create()\n",
    "        \n",
    "\n",
    "import sqlite3\n",
    "\n",
    "\n",
    "num = input(\"How many persons are present:\")\n",
    "\n",
    "class DB(object):\n",
    "    \n",
    "    \n",
    "    \n",
    "    #def __init__(self,num):\n",
    "     #   self.num = num\n",
    "        \n",
    "    \n",
    "    def get_connection(database=None):\n",
    "        print \"get fun in DB class\"\n",
    "        database = \"register.db\"\n",
    "        con = sqlite3.connect(database)\n",
    "        cur = con.cursor()\n",
    "        \n",
    "        return con,cur    \n",
    "            \n",
    "    def insert(self):\n",
    "        \n",
    "        #print \"We are in insert method of DB class\"\n",
    "                \n",
    "        try:\n",
    "             \n",
    "            b =DB()         \n",
    "            con,cur = b.get_connection()\n",
    "            \n",
    "            for i in range(num):\n",
    "                #id = input(\"Enter a id::\")\n",
    "                name = raw_input(\"Enter a name::\")\n",
    "                age = input(\"Enter age::\")\n",
    "                query = \"insert into person8(name,age) values (\\\"%s\\\",%d);\" %(name,age)\n",
    "            cur.execute(query)\n",
    "            print \"Registration completd successfully\"\n",
    "        except Exception as err:\n",
    "            print err\n",
    "        else:\n",
    "            con.commit()\n",
    "        finally:\n",
    "            cur.close()\n",
    "            con.close()\n",
    "            pass\n",
    "            \n",
    "            \n",
    "class Model(DB):\n",
    "    \n",
    "       \n",
    "    def create1(self):\n",
    "        \n",
    "        \n",
    "        \n",
    "        #print \"we are in create method of Model class\"\n",
    "        try:\n",
    "            \n",
    "            \n",
    "            query = \"create table if not exists person8(id int,name varchar(250),age int,primary key(id));\"\n",
    "            a= DB()\n",
    "            con,cur=a.get_connection()\n",
    "            #print \"sai\"\n",
    "            \n",
    "            cur.execute(query)\n",
    "            a.insert()\n",
    "        except Exception as err:\n",
    "            print err\n",
    "        \n",
    "class Person(Model):\n",
    "    \n",
    "    \n",
    "    \n",
    "    obj = Model()\n",
    "    obj.create1()\n",
    "        \n",
    "    "
   ]
  },
  {
   "cell_type": "code",
   "execution_count": 2,
   "metadata": {
    "collapsed": false
   },
   "outputs": [
    {
     "name": "stdout",
     "output_type": "stream",
     "text": [
      "60\n",
      "40\n",
      "6000\n"
     ]
    }
   ],
   "source": [
    "#72. create a user defined datatype, and provide functionalities of addition substraction and multiplication. Create three instances(obj1,obj2,obj3) and print an output of obj1+obj2+obj3, obj1-obj2-obj3, obj1*obj2*obj3 \n",
    "\n",
    "class Operations:\n",
    "    \n",
    "    def __init__(self,a):\n",
    "        self.a = a\n",
    "        \n",
    "    def __radd__(self,oth):\n",
    "        \n",
    "        return self.a + oth\n",
    "    \n",
    "    def __rsub__(self,oth):\n",
    "        return self.a-oth\n",
    "    \n",
    "    def __rmul__(self,oth):\n",
    "        return self.a * oth\n",
    "\n",
    "if __name__==\"__main__\":\n",
    "    obj1 =Operations(10)\n",
    "    obj2 = Operations(20)\n",
    "    obj3 =Operations(30) \n",
    "    print obj1+obj2+obj3\n",
    "    print obj1-obj2-obj3\n",
    "    print obj1*obj2*obj3"
   ]
  },
  {
   "cell_type": "code",
   "execution_count": 23,
   "metadata": {
    "collapsed": false
   },
   "outputs": [
    {
     "name": "stdout",
     "output_type": "stream",
     "text": [
      "{'a': 8, 'p': 3, 's': 6}\n",
      "{'a': -2, 'p': -1, 's': -2}\n",
      "{'a': 15, 'p': 2, 's': 8}\n"
     ]
    }
   ],
   "source": [
    "#73. addition, substraction, multiplication operations are not supported by dictionary. Write a program to provide addition, substraction, and multiplication operations to dictionary. Write your own definition for operations.\n",
    "\n",
    "class Dict_op(dict):\n",
    "    def __init__(self,obj):\n",
    "        \n",
    "        \n",
    "        self.obj = super(Dict_op,self).__init__(obj)\n",
    "        #print \"dictionary class\"\n",
    "        \n",
    "        return self.obj\n",
    "        \n",
    "    def __add__(dict1,dict2):\n",
    "        d3={}\n",
    "        for i in dict1.keys():\n",
    "            d3.update({i:dict1[i]+dict2[i]})\n",
    "        return d3\n",
    "    def __sub__(dict1,dict2):\n",
    "        d3={}\n",
    "        for i in dict1.keys():\n",
    "            d3.update({i:dict1[i]-dict2[i]})\n",
    "        return d3\n",
    "    def __mul__(dict1,dict2):\n",
    "        d3={}\n",
    "        for i in dict1.keys():\n",
    "            d3.update({i:dict1[i]*dict2[i]})\n",
    "        return d3\n",
    "        \n",
    "        \n",
    "\n",
    "if __name__==\"__main__\":\n",
    "    \n",
    "    obj1= Dict_op({\"s\":2,\"p\":1,\"a\":3})\n",
    "    obj2=Dict_op({\"s\":4,\"p\":2,\"a\":5})\n",
    "    s1= obj1+obj2\n",
    "    s2 = obj1-obj2\n",
    "    s3 = obj1*obj2\n",
    "    print s1\n",
    "    print s2\n",
    "    print s3\n",
    "    \n",
    "            "
   ]
  },
  {
   "cell_type": "code",
   "execution_count": 22,
   "metadata": {
    "collapsed": false
   },
   "outputs": [
    {
     "name": "stdout",
     "output_type": "stream",
     "text": [
      "Calling parent class method\n",
      "calling init method\n",
      "calling init method\n",
      "calling init method\n",
      "method inside class\n",
      "(12, 200)\n",
      "method inside class\n",
      "(12, 200)\n",
      "method inside class\n",
      "(12, 200)\n",
      "50635280 50635280 50635280\n"
     ]
    }
   ],
   "source": [
    "#74. write a class that can create only one object. IF create one more object then it should written existing object but not new. Create three instances and print id’s of the instances. All the id’s should show same address.\n",
    "class Class1(object):\n",
    "    obj= False\n",
    "    def __new__(cls,a,b):\n",
    "        if not cls.obj:\n",
    "            cls.obj = super(Class1,cls).__new__(cls)\n",
    "            print \"Calling parent class method\"\n",
    "        return cls.obj\n",
    "    def __init__(self,a,b):\n",
    "        print \"calling init method\"\n",
    "        self.a = a\n",
    "        self.b = b\n",
    "    def get(self):\n",
    "        print \"method inside class\"\n",
    "        return self.a,self.b\n",
    "obj1=Class1(50,1500)\n",
    "obj2=Class1(100,10)\n",
    "obj3 =Class1(12,200)\n",
    "print obj1.get()\n",
    "print obj2.get()\n",
    "print obj3.get()\n",
    "\n",
    "print id(obj1),id(obj2),id(obj3)\n",
    "        "
   ]
  },
  {
   "cell_type": "code",
   "execution_count": null,
   "metadata": {
    "collapsed": true
   },
   "outputs": [],
   "source": [
    "#75. implement class method and instance method and static method in a class with an example. Create a instance and call all the methods. Write down what is class method and instance method and static method.\n",
    "\n",
    "class AClass(object):\n",
    "   \n",
    "\n",
    "    def an_instance_method(self, x, y, z=None):\n",
    "        \n",
    "        return self.a_class_method(x, y)\n",
    "\n",
    "    @classmethod\n",
    "    def a_class_method(cls, x, y, z=None):\n",
    "        \n",
    "       \n",
    "        return cls.a_static_method(x, y, z=z)\n",
    "\n",
    "    @staticmethod\n",
    "    def a_static_method(x, y, z=None):\n",
    "       \n",
    "        return x, y, z\n",
    "\n",
    "\n",
    "instance = AClass()\n",
    "\n",
    "\n",
    "print instance.an_instance_method('x', 'y')\n",
    "print instance.a_static_method('x', 'y')\n",
    "print instance.a_class_method('x', 'y')\n",
    "\n",
    "#An \"instance method\" is a method that gets passed the instance object as its first parameter (ie) self is called. This is the default.\n",
    "#A \"static method\" is a method without the initial self parameter. This is implemented with the @staticmethod decorator.\n",
    "#A \"class method\" is a method where the initial parameter is not an instance object, but the class object which is called cls.\n",
    "#This is implemented with the @classmethod decorator."
   ]
  },
  {
   "cell_type": "code",
   "execution_count": null,
   "metadata": {
    "collapsed": true
   },
   "outputs": [],
   "source": [
    "#76. write a class program to demonstrate method overloading in python using below scenario.\n",
    "#Write a class and constructor to create an instances like below \n",
    "#a. p1 = person(id=1,name=”ashok”,age=23,sal=56787)\n",
    "#b. p2 = person(id=2,age=24,adhar=23456)\n",
    "#c. p3 = person(id=4,pan=”brcp3456”,sal=23,age=45) \n",
    "#make instance iterable and provide the operation p1+p2, p1-p2. Give your own definition for the operations\n",
    "\n",
    "class Person:\n",
    "    \n",
    "    \n",
    "    def __init__(self,id1=0,name=\"\",age=0,sal=0.0,adhar=0):\n",
    "       \n",
    "        self.id1 = id1\n",
    "        self.name = name\n",
    "        self.age = age\n",
    "        self.sal = sal\n",
    "        self.adhar = adhar\n",
    "        \n",
    "         \n",
    "    def get_info(self):\n",
    "        print self.id1\n",
    "        print self.name,self.age,self.sal,self.adhar\n",
    "    def __iter__(self):\n",
    "        yield self.id1,self.name,self.age,self.sal,self.adhar\n",
    "        \n",
    "    \n",
    "    def __add__(self1,self2):\n",
    "        res = {}\n",
    "        res.update({\"name\":self1.name+self2.name})\n",
    "        return res\n",
    "    def __sub__(self1,self2):\n",
    "        res1 = {}\n",
    "        res1.update({\"sal\":self1.sal-self2.sal})\n",
    "        return res1\n",
    "        \n",
    "\n",
    "p1=Person(id1=1,name=\"ashok\",age=23,sal=56787)\n",
    "p2=Person(id1=2,age=24,adhar=23456)\n",
    "p1.get_info()\n",
    "p2.get_info()\n",
    "print \"iteration through p1\"\n",
    "for i in p1:\n",
    "   print i\n",
    "\n",
    "\n",
    "\n",
    "\n",
    "print p1+p2\n",
    "print p1-p2\n"
   ]
  },
  {
   "cell_type": "code",
   "execution_count": null,
   "metadata": {
    "collapsed": true
   },
   "outputs": [],
   "source": [
    "#77. Remove duplicates elements of the list withoud using built in keywords and temporary list.\n",
    "\n",
    "l1 = [1,1,1,2,2,2,3,4,4,4,5,5,5,5,5]\n",
    "while i < len(l1)-1:\n",
    "   \n",
    "    \n",
    "    if l1[i] == l1[i+1]:\n",
    "        l1.pop(i)\n",
    "    else:\n",
    "        i = i+1\n",
    " \n",
    "print l1"
   ]
  },
  {
   "cell_type": "code",
   "execution_count": null,
   "metadata": {
    "collapsed": true
   },
   "outputs": [],
   "source": [
    "#78. WAP to replace perticular number of substings with a given destination string\n",
    "s=raw_input(\"Enter the string\")\n",
    "sub=raw_input(\"Enter the sub string\")\n",
    "newsub=raw_input(\"Enter the new substring\")\n",
    "if s.find(sub)==-1:\n",
    "    print \"substring not found\"\n",
    "    \n",
    "else:\n",
    "    print \"substring found\"\n",
    "    n=input(\"Enter how many occurances u need to replace\")\n",
    "    newstring=s.replace(sub,newsub,n)\n",
    "  \n",
    "    print \"The new string is \", newstring"
   ]
  },
  {
   "cell_type": "code",
   "execution_count": null,
   "metadata": {
    "collapsed": true
   },
   "outputs": [],
   "source": [
    "#79. WAP to remove substring form the given string without using replace function\n",
    "\n",
    "new_string =\"\"\n",
    "string = raw_input(\"Enter the string\")\n",
    "substring = raw_input(\"Enter the subsrting to be removed from the given string\")\n",
    "string = string.split(substring)\n",
    "new_string =new_string.join(string)\n",
    "print \"New string is \", new_string"
   ]
  },
  {
   "cell_type": "code",
   "execution_count": null,
   "metadata": {
    "collapsed": true
   },
   "outputs": [],
   "source": [
    "#80.WAP to remove perticular element from a given list for all occurancers\n",
    "\n",
    "def remove():\n",
    "    n = raw_input(\"Enter the element to be removed\")\n",
    "    for i in l1:\n",
    "        if i!=n:\n",
    "            new_list.append(i)\n",
    "    print new_list\n",
    "\n",
    "\n",
    "if __name__==\"__main__\":\n",
    "    new_list =[]\n",
    "    \n",
    "    l1=[]\n",
    "    c = int(raw_input(\"Enter the number of elements to be inserted in list:\"))\n",
    "    for i in range(c):\n",
    "        l1.append(raw_input(\"Enter a value:\"))\n",
    "\n",
    "\n",
    "    remove()"
   ]
  },
  {
   "cell_type": "code",
   "execution_count": null,
   "metadata": {
    "collapsed": true
   },
   "outputs": [],
   "source": [
    "#81. take two lists keys, values and form a dictionary\n",
    "\n",
    "keys =[]\n",
    "values =[]\n",
    "c=0\n",
    "usr_input = int(raw_input(\"Enter the no of elements in the list\"))\n",
    "   \n",
    "for i in range(usr_input):\n",
    "                keys.append(raw_input(\"Enter the keys \"))\n",
    "for j in range(usr_input):\n",
    "                values.append(raw_input(\"Enter the values \"))\n",
    "\n",
    "\n",
    "dict1 ={}\n",
    "j=0\n",
    "for x in keys:\n",
    "                dict1[x] = values[j]\n",
    "                j=j+1\n",
    "                \n",
    "    \n",
    "print \"list of keys =\",keys\n",
    "print \"list of values=\",values\n",
    "print \"Dictionary is \",dict1     "
   ]
  },
  {
   "cell_type": "code",
   "execution_count": null,
   "metadata": {
    "collapsed": false
   },
   "outputs": [],
   "source": [
    "#82. delete more than one key value pair at a time\n",
    "\n",
    "import random\n",
    "\n",
    "dict1 = {}\n",
    "s= input(\"Enter no of elements in dictionary\")\n",
    "for i in range(s):\n",
    "    id = input(\"Enter the id :\")\n",
    "    name =raw_input(\"Enter the name:\")\n",
    "    dict1[id] = name\n",
    "print dict1\n",
    "    \n",
    "\n",
    "n = input(\"enter how many keys to be removed\")\n",
    "if (n < len(dict1)) and (n > 1 ):\n",
    "    \n",
    "    list1 = random.sample(dict1,n)\n",
    "    for i in list1:\n",
    "        dict1.pop(i)\n",
    "    print dict1\n",
    "else:\n",
    "    print \"enter value greater than one\""
   ]
  },
  {
   "cell_type": "code",
   "execution_count": 24,
   "metadata": {
    "collapsed": false
   },
   "outputs": [
    {
     "ename": "SyntaxError",
     "evalue": "invalid syntax (<ipython-input-24-cd97becc8237>, line 3)",
     "output_type": "error",
     "traceback": [
      "\u001b[0;36m  File \u001b[0;32m\"<ipython-input-24-cd97becc8237>\"\u001b[0;36m, line \u001b[0;32m3\u001b[0m\n\u001b[0;31m    without set:\u001b[0m\n\u001b[0m              ^\u001b[0m\n\u001b[0;31mSyntaxError\u001b[0m\u001b[0;31m:\u001b[0m invalid syntax\n"
     ]
    }
   ],
   "source": [
    "#83. find out intersection, union, difference of two list without/with using set\n",
    "\n",
    "without set:\n",
    "\n",
    "\n",
    "def list_union():\n",
    "\n",
    "    c=a+b\n",
    "    print c\n",
    "    for i in c:\n",
    "        if c.count(i)>1:\n",
    "            c.remove(i)\n",
    "    print \"union\", c\n",
    "\n",
    "\n",
    "\n",
    "def list_inter():\n",
    "    #print a,b\n",
    "    d=[]\n",
    "    for x in a:\n",
    "        for y in b:\n",
    "            if x==y and (y not in d):\n",
    "                d.append(x)\n",
    "    print \"Intersection is \", d\n",
    "\n",
    "\n",
    "def diff(a,b):\n",
    "    diff_list = []\n",
    "    c = a + b\n",
    "    for i in range(0, len(c)):\n",
    "        if ((c[i] not in a) or (c[i] not in b)) and (c[i] not in diff_list):\n",
    "            diff_list.append(c[i])\n",
    "    print \"difference list is\", diff_list\n",
    "    return diff_list\n",
    "\n",
    "\n",
    "if __name__== \"__main__\":\n",
    "    a=[1,2,3,4,2,4,7,6]\n",
    "    b=[4,5,6,7,8,9]\n",
    "    list_union()\n",
    "    list_inter()\n",
    "    diff(a,b)\n",
    "\t\n",
    "\t\n",
    "using set\n",
    "=========\n",
    "def unique(a):\n",
    "    \n",
    "    return list(set(a))\n",
    "\n",
    "def intersect(a, b):\n",
    "    \n",
    "    return list(set(a) & set(b))\n",
    "\n",
    "def union(a, b):\n",
    "    \n",
    "    return list(set(a) | set(b))\n",
    "\n",
    "if __name__ == \"__main__\": \n",
    "    a = [0,1,2,0,1,2,3,4,5,6,7,8,9]\n",
    "    b = [5,6,7,8,9,10,11,12,13,14]\n",
    "    print unique(a)\n",
    "    print intersect(a, b)\n",
    "    print union(a, b)"
   ]
  },
  {
   "cell_type": "code",
   "execution_count": null,
   "metadata": {
    "collapsed": true
   },
   "outputs": [],
   "source": []
  }
 ],
 "metadata": {
  "kernelspec": {
   "display_name": "Python 2",
   "language": "python",
   "name": "python2"
  },
  "language_info": {
   "codemirror_mode": {
    "name": "ipython",
    "version": 2
   },
   "file_extension": ".py",
   "mimetype": "text/x-python",
   "name": "python",
   "nbconvert_exporter": "python",
   "pygments_lexer": "ipython2",
   "version": "2.7.13"
  }
 },
 "nbformat": 4,
 "nbformat_minor": 2
}
